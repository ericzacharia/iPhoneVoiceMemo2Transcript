{
 "cells": [
  {
   "cell_type": "code",
   "execution_count": 4,
   "metadata": {},
   "outputs": [],
   "source": [
    "import re\n",
    "\n",
    "\n",
    "def remove_timestamps_and_newlines(input_file, output_file):\n",
    "    with open(input_file, \"r\") as file:\n",
    "        content = file.read()\n",
    "\n",
    "    # Remove timestamps in the format [00:00:00.000 --> 00:00:00.000]\n",
    "    cleaned_content = re.sub(r\"\\[\\d{2}:\\d{2}:\\d{2}\\.\\d{3} --> \\d{2}:\\d{2}:\\d{2}\\.\\d{3}\\]\\s*\", \"\", content)\n",
    "\n",
    "    # Remove all new line characters\n",
    "    cleaned_content = cleaned_content.replace(\"\\n\", \" \")\n",
    "\n",
    "    # Write the cleaned content to the output file\n",
    "    with open(output_file, \"w\") as output:\n",
    "        output.write(cleaned_content)\n",
    "\n",
    "\n",
    "# Example usage\n",
    "remove_timestamps_and_newlines(\"Untitled.txt\", \"Untitled_timeless.txt\")"
   ]
  },
  {
   "cell_type": "code",
   "execution_count": null,
   "metadata": {},
   "outputs": [],
   "source": []
  }
 ],
 "metadata": {
  "kernelspec": {
   "display_name": "LLMs",
   "language": "python",
   "name": "python3"
  },
  "language_info": {
   "codemirror_mode": {
    "name": "ipython",
    "version": 3
   },
   "file_extension": ".py",
   "mimetype": "text/x-python",
   "name": "python",
   "nbconvert_exporter": "python",
   "pygments_lexer": "ipython3",
   "version": "3.11.4"
  }
 },
 "nbformat": 4,
 "nbformat_minor": 2
}
